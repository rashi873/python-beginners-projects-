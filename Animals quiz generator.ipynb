{
 "cells": [
  {
   "cell_type": "markdown",
   "id": "dd6012f7-15d1-4408-828e-ec301ec51b22",
   "metadata": {},
   "source": [
    "## ANIMALS GUESSING QUIZ GAME USING PYTHON"
   ]
  },
  {
   "cell_type": "code",
   "execution_count": 13,
   "id": "3436185b-ddda-48ee-931a-09f2829d0210",
   "metadata": {},
   "outputs": [
    {
     "name": "stdout",
     "output_type": "stream",
     "text": [
      "Guess the animal\n"
     ]
    },
    {
     "name": "stdin",
     "output_type": "stream",
     "text": [
      "Which bear lives at north pole? Polar Bear\n"
     ]
    },
    {
     "name": "stdout",
     "output_type": "stream",
     "text": [
      "Correct answer\n"
     ]
    },
    {
     "name": "stdin",
     "output_type": "stream",
     "text": [
      "Which is the fastest land animal? Cheetah\n"
     ]
    },
    {
     "name": "stdout",
     "output_type": "stream",
     "text": [
      "Correct answer\n"
     ]
    },
    {
     "name": "stdin",
     "output_type": "stream",
     "text": [
      "Which is the largest animal? Blue Whale\n"
     ]
    },
    {
     "name": "stdout",
     "output_type": "stream",
     "text": [
      "Correct answer\n",
      "Your score is :3\n"
     ]
    }
   ],
   "source": [
    "def check_guess(guess,answer):\n",
    "    global score\n",
    "    still_guessing = True\n",
    "    attempt = 0\n",
    "    while still_guessing and attempt <3:\n",
    "        if guess.lower() == answer.lower():\n",
    "            print(\"Correct answer\")\n",
    "            score = score + 1\n",
    "            still_guessing = False\n",
    "        else: \n",
    "            if attempt <2:\n",
    "                  guess = input(\"Sorry wrong answer,Try again\")\n",
    "                attempt = attempt + 1\n",
    "          \n",
    "        \n",
    "    if attempt == 3:\n",
    "        print(\"The correct answer is :\",answer)\n",
    "         \n",
    "   \n",
    "\n",
    "score = 0\n",
    "print(\"Guess the animal\")\n",
    "guess1  = input(\"Which bear lives at north pole?\")\n",
    "check_guess(guess1,\"Polar Bear\")\n",
    "guess2 = input(\"Which is the fastest land animal?\")\n",
    "check_guess(guess2,\"Cheetah\")\n",
    "guess3 = input(\"Which is the largest animal?\")\n",
    "check_guess(guess3,\"Blue Whale\")\n",
    "\n",
    "print(\"Your score is :\" + str(score))"
   ]
  },
  {
   "cell_type": "markdown",
   "id": "ce4d67bb-c431-4849-8f08-89c293ef8b99",
   "metadata": {},
   "source": [
    "### Steps\n",
    "1. We need a score variable to define the score system\n",
    "2. Define a function to check answers by using guess and attempt\n",
    "3. use input() to guess user's answer\n",
    "4. Use check_guess() to know the correct answer by comparing it with guess()\n",
    "5. show the final scoring after exhausting all attempts."
   ]
  },
  {
   "cell_type": "code",
   "execution_count": null,
   "id": "caeebb94-4966-4f5e-9d3c-da9dffd5d03f",
   "metadata": {},
   "outputs": [],
   "source": []
  }
 ],
 "metadata": {
  "kernelspec": {
   "display_name": "Python [conda env:base] *",
   "language": "python",
   "name": "conda-base-py"
  },
  "language_info": {
   "codemirror_mode": {
    "name": "ipython",
    "version": 3
   },
   "file_extension": ".py",
   "mimetype": "text/x-python",
   "name": "python",
   "nbconvert_exporter": "python",
   "pygments_lexer": "ipython3",
   "version": "3.12.7"
  }
 },
 "nbformat": 4,
 "nbformat_minor": 5
}
