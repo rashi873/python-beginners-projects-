{
 "cells": [
  {
   "cell_type": "markdown",
   "id": "5dc45e4b-55f2-4181-a7fd-bb8d267f4237",
   "metadata": {},
   "source": [
    "## Generate password using python"
   ]
  },
  {
   "cell_type": "code",
   "execution_count": 7,
   "id": "a8677fa7-cc78-43eb-bc97-db8b2b0c1419",
   "metadata": {},
   "outputs": [
    {
     "name": "stdin",
     "output_type": "stream",
     "text": [
      "Enter the length of password: 12\n"
     ]
    },
    {
     "name": "stdout",
     "output_type": "stream",
     "text": [
      "r6Vx%XRL@sW8\n"
     ]
    }
   ],
   "source": [
    "import random\n",
    "passwordlength=int(input(\"Enter the length of password:\"))\n",
    "s = \"abcdefghijklmnopqrstuvwxyz01234567890ABCDEFGHIJKLMNOPQRSTUVWXYZ@#$%^&*()!\"\n",
    "password = \"\".join(random.sample(s,passwordlength))\n",
    "print(password)\n"
   ]
  },
  {
   "cell_type": "markdown",
   "id": "05113e4a-bace-4f55-b122-ac5172c7a693",
   "metadata": {},
   "source": [
    "### steps \n",
    "1. Import the random module to generate random numbers and make random selections\n",
    "2. enter the input to ask the user to enter the desired length for password\n",
    "3. create a string of letters,numbers,symbols\n",
    "4. use random.sample() to choose random values from the string "
   ]
  },
  {
   "cell_type": "code",
   "execution_count": null,
   "id": "f5729df7-2d79-4878-844b-b5891abc176a",
   "metadata": {},
   "outputs": [],
   "source": []
  }
 ],
 "metadata": {
  "kernelspec": {
   "display_name": "Python [conda env:base] *",
   "language": "python",
   "name": "conda-base-py"
  },
  "language_info": {
   "codemirror_mode": {
    "name": "ipython",
    "version": 3
   },
   "file_extension": ".py",
   "mimetype": "text/x-python",
   "name": "python",
   "nbconvert_exporter": "python",
   "pygments_lexer": "ipython3",
   "version": "3.12.7"
  }
 },
 "nbformat": 4,
 "nbformat_minor": 5
}
