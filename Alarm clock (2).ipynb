{
 "cells": [
  {
   "cell_type": "markdown",
   "id": "e7eb7560-5af8-423d-ada6-5c1a13925235",
   "metadata": {},
   "source": [
    "## ALARM CLOCK WITH SOUND USING PYTHON"
   ]
  },
  {
   "cell_type": "code",
   "execution_count": 16,
   "id": "0f9d28de-8dd3-4bff-9d71-5ab38310c032",
   "metadata": {},
   "outputs": [
    {
     "name": "stdin",
     "output_type": "stream",
     "text": [
      "Enter the time of alarm to be set (HH:MM:SS):  18:39:00\n"
     ]
    },
    {
     "name": "stdout",
     "output_type": "stream",
     "text": [
      "Setting up alarm...\n",
      "Wake Up!!!\n"
     ]
    },
    {
     "name": "stderr",
     "output_type": "stream",
     "text": [
      "\n",
      "    Error 263 for command:\n",
      "        close audio.mp3.wav\n",
      "    The specified device is not open or is not recognized by MCI.\n",
      "Failed to close the file: audio.mp3.wav\n"
     ]
    }
   ],
   "source": [
    "from datetime import datetime\n",
    "from playsound import playsound\n",
    "import time\n",
    "\n",
    "# Get the alarm time from the user\n",
    "alarm_time = input(\"Enter the time of alarm to be set (HH:MM:SS): \").strip()\n",
    "\n",
    "# Extract parts of the time\n",
    "alarm_hour = alarm_time[0:2]\n",
    "alarm_minute = alarm_time[3:5]\n",
    "alarm_seconds = alarm_time[6:8]\n",
    "alarm_period = alarm_time[8:].upper()\n",
    "\n",
    "print(\"Setting up alarm...\")\n",
    "\n",
    "while True:\n",
    "    now = datetime.now()\n",
    "    current_hour = now.strftime(\"%H\")        # 24-hour format\n",
    "    current_minute = now.strftime(\"%M\")\n",
    "    current_seconds = now.strftime(\"%S\")\n",
    "    \n",
    "\n",
    "     \n",
    "    if(alarm_hour == current_hour and\n",
    "        alarm_minute == current_minute and\n",
    "        alarm_seconds == current_seconds):\n",
    "        print(\"Wake Up!!!\")\n",
    "        playsound('audio.mp3.wav')  # Ensure this file is in the correct path\n",
    "        break\n",
    "\n",
    "    time.sleep(1)  # Pause for 1 second before checking again\n"
   ]
  },
  {
   "cell_type": "markdown",
   "id": "fb295971-a347-493f-af91-67c24bf8bc5f",
   "metadata": {},
   "source": [
    "### STEPS\n",
    "1. Import required libraries such as 'datetime','playsound'.\n",
    "2. Ask the user to give input for the time to be set for the alarm in the format: HH:MM:SS.\n",
    "3. Extracts the hour, minute, and seconds from the input string.\n",
    "4. Gets the current time using datetime.now().\n",
    "5. If the current time matches the alarm time, it:\n",
    "Prints \"Wake Up!!!\"\n",
    "Plays the audio file (audio.mp3.wav) as the alarm sound.\n",
    "\n"
   ]
  },
  {
   "cell_type": "code",
   "execution_count": null,
   "id": "6164e99c-85d7-43f5-9156-a083238666c6",
   "metadata": {},
   "outputs": [],
   "source": []
  }
 ],
 "metadata": {
  "kernelspec": {
   "display_name": "Python [conda env:base] *",
   "language": "python",
   "name": "conda-base-py"
  },
  "language_info": {
   "codemirror_mode": {
    "name": "ipython",
    "version": 3
   },
   "file_extension": ".py",
   "mimetype": "text/x-python",
   "name": "python",
   "nbconvert_exporter": "python",
   "pygments_lexer": "ipython3",
   "version": "3.12.7"
  }
 },
 "nbformat": 4,
 "nbformat_minor": 5
}
