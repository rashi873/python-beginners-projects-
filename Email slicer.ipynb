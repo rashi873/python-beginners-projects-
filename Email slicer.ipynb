{
 "cells": [
  {
   "cell_type": "markdown",
   "id": "3a8b1952-1e65-44e2-8f63-7ebec4ca0157",
   "metadata": {},
   "source": [
    "## EMAIL SLICER USING PYTHON"
   ]
  },
  {
   "cell_type": "code",
   "execution_count": 12,
   "id": "b502923f-c04b-4363-917f-7a5d5b8988b8",
   "metadata": {},
   "outputs": [
    {
     "name": "stdin",
     "output_type": "stream",
     "text": [
      "Enter Your Email-address: rashibali752@gmail.com\n"
     ]
    },
    {
     "name": "stdout",
     "output_type": "stream",
     "text": [
      "Your user name is rashibali752 and your domain name is gmail.com\n"
     ]
    }
   ],
   "source": [
    "email = input(\"Enter Your Email-address:\").strip()\n",
    "username = email[:email.index(\"@\")]\n",
    "domain_name = email[email.index(\"@\")+1:]\n",
    "Format = (\"Your user name is {username} and your domain name is {domain_name}\".format(username=username,domain_name=domain_name))\n",
    "print(Format)"
   ]
  },
  {
   "cell_type": "markdown",
   "id": "53106dfc-8382-4e03-932e-2f69d57320f4",
   "metadata": {},
   "source": [
    "## STEPS\n",
    "1. input() asks the user to enter email address\n",
    "2. extract the username and domain name by using index function \n",
    "3. use format function to place the username and domain name in their right place."
   ]
  },
  {
   "cell_type": "code",
   "execution_count": null,
   "id": "c0ebfdc6-3035-4214-87de-9b87d4c15015",
   "metadata": {},
   "outputs": [],
   "source": []
  }
 ],
 "metadata": {
  "kernelspec": {
   "display_name": "Python [conda env:base] *",
   "language": "python",
   "name": "conda-base-py"
  },
  "language_info": {
   "codemirror_mode": {
    "name": "ipython",
    "version": 3
   },
   "file_extension": ".py",
   "mimetype": "text/x-python",
   "name": "python",
   "nbconvert_exporter": "python",
   "pygments_lexer": "ipython3",
   "version": "3.12.7"
  }
 },
 "nbformat": 4,
 "nbformat_minor": 5
}
