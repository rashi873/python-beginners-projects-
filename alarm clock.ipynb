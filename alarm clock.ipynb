{
 "cells": [
  {
   "cell_type": "markdown",
   "id": "e7eb7560-5af8-423d-ada6-5c1a13925235",
   "metadata": {},
   "source": [
    "## ALARM CLOCK WITH SOUND USING PYTHON"
   ]
  },
  {
   "cell_type": "code",
   "execution_count": null,
   "id": "ffc003c7-1529-43d9-a3b3-b93a1edf6d33",
   "metadata": {},
   "outputs": [
    {
     "name": "stdin",
     "output_type": "stream",
     "text": [
      "Enter the time of alarm to be set : HH:MM:SS\n",
      " 11:10:00\n"
     ]
    },
    {
     "name": "stdout",
     "output_type": "stream",
     "text": [
      "Setting up alarm...\n"
     ]
    }
   ],
   "source": [
    "from datetime import datetime\n",
    "from playsound import playsound\n",
    "alarm_time = input(\"Enter the time of alarm to be set : HH:MM:SS\\n\")\n",
    "alarm_hour = alarm_time[0:2]\n",
    "alarm_minute = alarm_time[3:5]\n",
    "alarm_seconds = alarm_time[6:8]\n",
    "alarm_period = alarm_time[9:11].upper()\n",
    "print (\"Setting up alarm...\")\n",
    "while True:\n",
    "    now = datetime.now()\n",
    "    current_hour = now.strftime(\"%I\")\n",
    "    current_minute = now.strftime(\"%M\")\n",
    "    current_seconds = now.strftime(\"%S\")\n",
    "    current_period = now.strftime(\"%p\")\n",
    "    if (alarm_period==current_period):\n",
    "        if(alarm_hour==current_hour):\n",
    "            if(alarm_minute==current_minute):\n",
    "                if(alarm_seconds==current_seconds):\n",
    "                    print(\"Wake Up!!!\")\n",
    "                    playsound('audio.mp3')\n",
    "                    break\n",
    "    "
   ]
  },
  {
   "cell_type": "code",
   "execution_count": null,
   "id": "40613bc8-59ff-4b86-b5da-5381e07a6f51",
   "metadata": {},
   "outputs": [],
   "source": []
  }
 ],
 "metadata": {
  "kernelspec": {
   "display_name": "Python [conda env:base] *",
   "language": "python",
   "name": "conda-base-py"
  },
  "language_info": {
   "codemirror_mode": {
    "name": "ipython",
    "version": 3
   },
   "file_extension": ".py",
   "mimetype": "text/x-python",
   "name": "python",
   "nbconvert_exporter": "python",
   "pygments_lexer": "ipython3",
   "version": "3.12.7"
  }
 },
 "nbformat": 4,
 "nbformat_minor": 5
}
