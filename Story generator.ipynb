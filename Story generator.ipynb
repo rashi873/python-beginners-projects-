{
 "cells": [
  {
   "cell_type": "markdown",
   "id": "077a39d2-0c4f-4f19-84c4-9f4d425c4061",
   "metadata": {},
   "source": [
    "## STORY GENERATOR PROJECT USING PYTHON"
   ]
  },
  {
   "cell_type": "code",
   "execution_count": 3,
   "id": "0352872a-40a3-4217-ae85-4e1dc26d5a4a",
   "metadata": {},
   "outputs": [],
   "source": [
    "import random "
   ]
  },
  {
   "cell_type": "code",
   "execution_count": null,
   "id": "a87b7a01-812a-44f0-b789-9aa2c9c65f61",
   "metadata": {
    "scrolled": true
   },
   "outputs": [],
   "source": [
    "when=[\"A few years ago\",\"Yesterday\",\"Last night\",\"A long time ago\",\"On 20th january\"]\n",
    "who=[\"A rabbit\",\"An elephant\",\"A turtle\",\"A mouse\",\"A cat\"]\n",
    "name=[\"Ali\",\"Miriam\",\"Daniel\",\"Hoouk\",\"Star walker\"]\n",
    "residence=[\"India\",\"Barcelona\",\"Venice\",\"Germany\",\"England\"]\n",
    "went=[\"Cinema\",\"University\",\"Seminar\",\"School\",\"laundry\"]\n",
    "happened=[\"made a lot of friends\",\"eats a burger\",\"found a secret key\",\"solved a mystery\",\"wrote a book\"]\n",
    "print(random.choice(when)+','+ random.choice(who)+ ' that lived in ' + random.choice(residence)+ ',went to the ' +random.choice(went) + ' and ' + random.choice(happened))"
   ]
  },
  {
   "cell_type": "markdown",
   "id": "9f314048-bbda-4b64-8d2b-31d9a9d201a5",
   "metadata": {},
   "source": [
    "## Steps\n",
    "1. Imports the random module\n",
    "2. Defines multiple lists :when, who, name, residence, went, happened\n",
    "3. Randomly selects one item from each list,Uses random.choice() to pick one item from each list.\n",
    "   \n",
    "\n"
   ]
  },
  {
   "cell_type": "code",
   "execution_count": null,
   "id": "0e9813c9-1e67-47da-89c5-fca43296b310",
   "metadata": {},
   "outputs": [],
   "source": []
  }
 ],
 "metadata": {
  "kernelspec": {
   "display_name": "Python [conda env:base] *",
   "language": "python",
   "name": "conda-base-py"
  },
  "language_info": {
   "codemirror_mode": {
    "name": "ipython",
    "version": 3
   },
   "file_extension": ".py",
   "mimetype": "text/x-python",
   "name": "python",
   "nbconvert_exporter": "python",
   "pygments_lexer": "ipython3",
   "version": "3.12.7"
  }
 },
 "nbformat": 4,
 "nbformat_minor": 5
}
