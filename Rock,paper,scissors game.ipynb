{
 "cells": [
  {
   "cell_type": "markdown",
   "id": "596be707-07d1-4fc9-a924-45e02a919681",
   "metadata": {},
   "source": [
    "## Rocks, Paper and Scissors Game using Python"
   ]
  },
  {
   "cell_type": "code",
   "execution_count": 14,
   "id": "8946adb8-db6c-4439-a1d3-ad5a58944067",
   "metadata": {},
   "outputs": [
    {
     "name": "stdin",
     "output_type": "stream",
     "text": [
      "Rock,Paper,Scissors rock\n"
     ]
    },
    {
     "name": "stdout",
     "output_type": "stream",
     "text": [
      "Oops! You loose! try again :)\n"
     ]
    },
    {
     "name": "stdin",
     "output_type": "stream",
     "text": [
      "Rock,Paper,Scissors scissors\n"
     ]
    },
    {
     "name": "stdout",
     "output_type": "stream",
     "text": [
      "Oops! You loose! try again :)\n"
     ]
    },
    {
     "name": "stdin",
     "output_type": "stream",
     "text": [
      "Rock,Paper,Scissors rock\n"
     ]
    },
    {
     "name": "stdout",
     "output_type": "stream",
     "text": [
      "yayyyy!!! you win!!!! \n"
     ]
    },
    {
     "name": "stdin",
     "output_type": "stream",
     "text": [
      "Rock,Paper,Scissors rock\n"
     ]
    },
    {
     "name": "stdout",
     "output_type": "stream",
     "text": [
      "Oops! You loose! try again :)\n"
     ]
    },
    {
     "name": "stdin",
     "output_type": "stream",
     "text": [
      "Rock,Paper,Scissors paers\n",
      "Rock,Paper,Scissors paper\n"
     ]
    },
    {
     "name": "stdout",
     "output_type": "stream",
     "text": [
      "Oops! You loose! try again :)\n"
     ]
    },
    {
     "name": "stdin",
     "output_type": "stream",
     "text": [
      "Rock,Paper,Scissors rock\n"
     ]
    },
    {
     "name": "stdout",
     "output_type": "stream",
     "text": [
      "Tie!\n"
     ]
    },
    {
     "name": "stdin",
     "output_type": "stream",
     "text": [
      "Rock,Paper,Scissors rock\n"
     ]
    },
    {
     "name": "stdout",
     "output_type": "stream",
     "text": [
      "Oops! You loose! try again :)\n"
     ]
    },
    {
     "name": "stdin",
     "output_type": "stream",
     "text": [
      "Rock,Paper,Scissors rock\n"
     ]
    },
    {
     "name": "stdout",
     "output_type": "stream",
     "text": [
      "Oops! You loose! try again :)\n"
     ]
    },
    {
     "name": "stdin",
     "output_type": "stream",
     "text": [
      "Rock,Paper,Scissors end\n"
     ]
    },
    {
     "name": "stdout",
     "output_type": "stream",
     "text": [
      "Final Scores\n",
      "CPU:6\n",
      "Player:1\n",
      "Congratulations :)\n"
     ]
    }
   ],
   "source": [
    "import random\n",
    "\n",
    "choices = [\"Rock\",\"Paper\",\"Scissors\"]\n",
    "\n",
    "player = False\n",
    "cpu_score = 0\n",
    "player_score = 0\n",
    "while True:\n",
    "    computer = random.choice(choices)\n",
    "    player = input(\"Rock,Paper,Scissors\").capitalize()\n",
    "\n",
    "    if player == computer:\n",
    "        print(\"Tie!\")\n",
    "    elif player == \"Rock\":\n",
    "        if computer == \"Paper\":\n",
    "            print(\"Oops! You loose! try again :)\")\n",
    "            cpu_score = cpu_score + 1\n",
    "        else:\n",
    "            print(\"yayyyy!!! you win!!!! \")\n",
    "            player_score = player_score + 1\n",
    "    elif player == \"Paper\":\n",
    "        if computer == \"Scissors\":\n",
    "            print (\"Oops! You loose! try again :)\")\n",
    "            cpu_score = cpu_score + 1\n",
    "        else:\n",
    "             print(\"yayyyy!!! you win!!!! \")\n",
    "             player_score = player_score + 1\n",
    "    elif player == \"Scissors\":\n",
    "        if computer == \"Rock\":\n",
    "            print(\"Oops! You loose! try again :)\")\n",
    "            cpu_score = cpu_score + 1\n",
    "        else:\n",
    "             print(\"yayyyy!!! you win!!!! \")\n",
    "             player_score = player_score + 1\n",
    "    elif player == \"End\":\n",
    "        print(\"Final Scores\")\n",
    "        print(\"CPU:{}\".format(cpu_score))\n",
    "        print(\"Player:{}\".format(player_score))\n",
    "        print(\"Congratulations :)\")\n",
    "        break \n",
    "    \n",
    "    \n",
    "            \n",
    "            \n",
    "        \n",
    "        \n",
    "        \n",
    "    "
   ]
  },
  {
   "cell_type": "markdown",
   "id": "65f8b4b5-bd91-49ef-a355-a2882a2f114b",
   "metadata": {},
   "source": [
    "### Steps\n",
    "1. setting up of game elements by choices giving random() function\n",
    "2. Runs the game continuously until the user types \"End\"\n",
    "3. computer randomly picks while player enter the input()\n",
    "4. if user type end in the input() then game will end and final scores will be shown at the end."
   ]
  },
  {
   "cell_type": "code",
   "execution_count": null,
   "id": "9857ff81-0597-48ca-8c9b-ae53d43c7306",
   "metadata": {},
   "outputs": [],
   "source": []
  }
 ],
 "metadata": {
  "kernelspec": {
   "display_name": "Python [conda env:base] *",
   "language": "python",
   "name": "conda-base-py"
  },
  "language_info": {
   "codemirror_mode": {
    "name": "ipython",
    "version": 3
   },
   "file_extension": ".py",
   "mimetype": "text/x-python",
   "name": "python",
   "nbconvert_exporter": "python",
   "pygments_lexer": "ipython3",
   "version": "3.12.7"
  }
 },
 "nbformat": 4,
 "nbformat_minor": 5
}
