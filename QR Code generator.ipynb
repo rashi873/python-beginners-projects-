{
 "cells": [
  {
   "cell_type": "markdown",
   "id": "8caa9118-f18b-4035-8553-650c069c8a96",
   "metadata": {},
   "source": [
    "## QR CODE GENERATOR USING PYTHON"
   ]
  },
  {
   "cell_type": "code",
   "execution_count": 37,
   "id": "f3d05557-cf6d-4b2f-8928-7338cf061463",
   "metadata": {},
   "outputs": [],
   "source": [
    "import pyqrcode\n",
    "from pyqrcode import QRCode\n",
    "\n",
    "s=\"https://youtu.be/CNSG4R4Eiig?si=N2djZajPVdG6Wk_7\"\n",
    "url=pyqrcode.create(s)\n",
    "url.svg(\"rashi.svg\",scale=7)"
   ]
  },
  {
   "cell_type": "code",
   "execution_count": 39,
   "id": "6f8fc5e4-79cd-4b45-941b-bd1234c35def",
   "metadata": {},
   "outputs": [
    {
     "data": {
      "image/svg+xml": [
       "<svg xmlns=\"http://www.w3.org/2000/svg\" height=\"343\" width=\"343\" class=\"pyqrcode\"><path transform=\"scale(7)\" stroke=\"#000\" class=\"pyqrline\" d=\"M4 4.5h7m1 0h5m2 0h1m1 0h3m3 0h1m3 0h5m2 0h7m-41 1h1m5 0h1m1 0h2m5 0h1m4 0h4m3 0h1m2 0h1m1 0h1m1 0h1m5 0h1m-41 1h1m1 0h3m1 0h1m5 0h5m1 0h2m1 0h1m2 0h1m1 0h2m2 0h1m3 0h1m1 0h3m1 0h1m-41 1h1m1 0h3m1 0h1m1 0h1m1 0h1m1 0h1m2 0h1m2 0h1m1 0h2m3 0h1m1 0h6m1 0h1m1 0h3m1 0h1m-41 1h1m1 0h3m1 0h1m1 0h1m5 0h1m4 0h2m2 0h3m1 0h1m1 0h2m1 0h1m1 0h1m1 0h3m1 0h1m-41 1h1m5 0h1m1 0h1m2 0h1m1 0h1m2 0h5m1 0h1m1 0h5m2 0h2m1 0h1m5 0h1m-41 1h7m1 0h1m1 0h1m1 0h1m1 0h1m1 0h1m1 0h1m1 0h1m1 0h1m1 0h1m1 0h1m1 0h1m1 0h1m1 0h1m1 0h7m-32 1h4m5 0h1m1 0h2m1 0h1m2 0h1m2 0h3m-29 1h1m2 0h1m3 0h2m1 0h1m1 0h1m1 0h2m1 0h1m1 0h3m3 0h1m3 0h1m2 0h3m1 0h2m-40 1h5m1 0h3m1 0h1m1 0h1m3 0h1m6 0h3m2 0h1m2 0h3m2 0h4m-41 1h1m3 0h1m1 0h2m1 0h1m4 0h1m2 0h4m4 0h2m1 0h1m2 0h1m1 0h2m2 0h3m-39 1h1m1 0h2m2 0h1m1 0h2m1 0h2m1 0h7m1 0h1m1 0h1m1 0h2m4 0h2m3 0h1m1 0h1m-41 1h1m2 0h2m1 0h5m1 0h1m1 0h2m2 0h1m2 0h2m1 0h1m3 0h1m2 0h1m1 0h1m1 0h3m1 0h2m-38 1h3m3 0h3m3 0h1m5 0h4m2 0h1m5 0h2m2 0h1m1 0h1m-40 1h2m4 0h1m4 0h1m1 0h1m3 0h1m1 0h1m2 0h1m1 0h2m1 0h2m1 0h1m1 0h1m1 0h2m1 0h1m1 0h2m-41 1h3m2 0h1m1 0h1m1 0h2m1 0h1m1 0h1m5 0h3m1 0h3m1 0h2m1 0h1m2 0h1m1 0h2m2 0h1m-41 1h1m1 0h1m2 0h3m2 0h1m3 0h2m4 0h1m2 0h5m3 0h2m2 0h1m1 0h1m-38 1h1m1 0h3m2 0h1m1 0h2m3 0h1m3 0h1m3 0h2m2 0h3m1 0h1m3 0h2m1 0h1m1 0h2m-40 1h3m1 0h2m2 0h1m1 0h6m1 0h2m1 0h1m3 0h2m1 0h1m1 0h1m1 0h1m1 0h1m1 0h5m-41 1h2m1 0h2m6 0h3m3 0h4m1 0h2m2 0h2m1 0h3m3 0h1m3 0h1m-38 1h1m3 0h2m3 0h4m2 0h1m2 0h1m1 0h1m2 0h2m1 0h11m1 0h1m-37 1h1m5 0h1m1 0h1m2 0h2m6 0h1m1 0h1m2 0h1m1 0h4m1 0h1m1 0h4m-41 1h2m2 0h6m3 0h2m2 0h1m2 0h3m2 0h2m1 0h2m1 0h3m1 0h1m3 0h1m-39 1h1m2 0h2m1 0h2m3 0h1m1 0h5m2 0h3m3 0h1m2 0h2m1 0h1m1 0h1m2 0h2m-37 1h1m1 0h2m1 0h1m7 0h1m1 0h4m1 0h1m3 0h1m1 0h1m2 0h4m1 0h2m1 0h1m-41 1h1m1 0h3m5 0h1m2 0h1m1 0h2m2 0h6m1 0h1m2 0h3m1 0h1m1 0h1m1 0h1m2 0h1m-40 1h1m1 0h1m2 0h1m1 0h5m1 0h1m1 0h1m4 0h1m1 0h4m1 0h2m2 0h1m1 0h2m3 0h2m-41 1h1m3 0h2m2 0h3m1 0h3m1 0h2m1 0h1m1 0h1m1 0h1m1 0h1m1 0h4m1 0h1m3 0h1m2 0h2m-41 1h1m1 0h1m3 0h1m2 0h2m4 0h2m2 0h1m3 0h2m3 0h2m2 0h1m3 0h1m2 0h1m-39 1h4m2 0h1m1 0h1m3 0h1m3 0h1m3 0h3m1 0h1m1 0h1m3 0h1m3 0h1m4 0h1m-41 1h1m1 0h1m2 0h7m1 0h1m3 0h4m1 0h1m1 0h1m1 0h1m3 0h3m2 0h1m1 0h1m1 0h2m-39 1h2m7 0h2m2 0h3m1 0h1m1 0h9m1 0h3m1 0h1m1 0h1m-38 1h1m1 0h3m1 0h1m1 0h1m1 0h1m4 0h4m2 0h2m2 0h1m2 0h2m1 0h6m2 0h1m-32 1h1m1 0h8m2 0h3m1 0h2m2 0h1m1 0h1m1 0h1m3 0h1m1 0h3m-41 1h7m2 0h1m2 0h3m1 0h3m2 0h4m1 0h1m2 0h1m1 0h2m1 0h1m1 0h1m1 0h2m-40 1h1m5 0h1m2 0h4m4 0h1m1 0h5m4 0h2m2 0h1m3 0h1m1 0h3m-41 1h1m1 0h3m1 0h1m2 0h3m1 0h1m2 0h1m1 0h3m2 0h3m2 0h1m3 0h5m1 0h2m-40 1h1m1 0h3m1 0h1m1 0h1m2 0h4m1 0h1m2 0h2m1 0h1m1 0h3m2 0h1m2 0h3m1 0h3m-39 1h1m1 0h3m1 0h1m3 0h5m1 0h3m2 0h3m5 0h1m2 0h1m3 0h3m1 0h1m-41 1h1m5 0h1m2 0h1m3 0h1m2 0h4m4 0h4m1 0h2m1 0h1m2 0h1m1 0h1m1 0h1m-40 1h7m3 0h2m2 0h5m3 0h1m1 0h2m1 0h3m1 0h6m2 0h1\"/></svg>"
      ],
      "text/plain": [
       "<IPython.core.display.SVG object>"
      ]
     },
     "execution_count": 39,
     "metadata": {},
     "output_type": "execute_result"
    }
   ],
   "source": [
    "from IPython.display import SVG\n",
    "SVG(filename=\"rashi.svg\")"
   ]
  },
  {
   "cell_type": "markdown",
   "id": "49014d0b-5cf1-4da0-9f92-fe980b58e2db",
   "metadata": {},
   "source": [
    "## STEPS\n",
    "1. Install pyqrcode in anaconda prompt or in any other prompts\n",
    "2. for generating a qr code, we have to give youtube link or URL for that\n",
    "3. Save the QR code using SVG function\n",
    "4. Save and display SVG in your running notebook only."
   ]
  },
  {
   "cell_type": "code",
   "execution_count": null,
   "id": "ecacfd23-44e8-4f8f-aa9b-50006440b688",
   "metadata": {},
   "outputs": [],
   "source": []
  }
 ],
 "metadata": {
  "kernelspec": {
   "display_name": "Python [conda env:base] *",
   "language": "python",
   "name": "conda-base-py"
  },
  "language_info": {
   "codemirror_mode": {
    "name": "ipython",
    "version": 3
   },
   "file_extension": ".py",
   "mimetype": "text/x-python",
   "name": "python",
   "nbconvert_exporter": "python",
   "pygments_lexer": "ipython3",
   "version": "3.12.7"
  }
 },
 "nbformat": 4,
 "nbformat_minor": 5
}
