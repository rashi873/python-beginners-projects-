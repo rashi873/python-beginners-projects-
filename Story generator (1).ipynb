{
 "cells": [
  {
   "cell_type": "markdown",
   "id": "077a39d2-0c4f-4f19-84c4-9f4d425c4061",
   "metadata": {},
   "source": [
    "## STORY GENERATOR PROJECT USING PYTHON"
   ]
  },
  {
   "cell_type": "code",
   "execution_count": 3,
   "id": "0352872a-40a3-4217-ae85-4e1dc26d5a4a",
   "metadata": {},
   "outputs": [],
   "source": [
    "import random "
   ]
  },
  {
   "cell_type": "code",
   "execution_count": 35,
   "id": "1fda2a65-5aa0-4fa9-af0e-e7b97827c712",
   "metadata": {
    "scrolled": true
   },
   "outputs": [
    {
     "name": "stdout",
     "output_type": "stream",
     "text": [
      "Yesterday,A cat that lived in Germany,went to the Seminar and eats a burger\n"
     ]
    }
   ],
   "source": [
    "when=[\"A few years ago\",\"Yesterday\",\"Last night\",\"A long time ago\",\"On 20th january\"]\n",
    "who=[\"A rabbit\",\"An elephant\",\"A turtle\",\"A mouse\",\"A cat\"]\n",
    "name=[\"Ali\",\"Miriam\",\"Daniel\",\"Hoouk\",\"Star walker\"]\n",
    "residence=[\"India\",\"Barcelona\",\"Venice\",\"Germany\",\"England\"]\n",
    "went=[\"Cinema\",\"University\",\"Seminar\",\"School\",\"laundry\"]\n",
    "happened=[\"made a lot of friends\",\"eats a burger\",\"found a secret key\",\"solved a mystery\",\"wrote a book\"]\n",
    "print(random.choice(when)+','+ random.choice(who)+ ' that lived in ' + random.choice(residence)+ ',went to the ' +random.choice(went) + ' and ' + random.choice(happened))"
   ]
  },
  {
   "cell_type": "code",
   "execution_count": null,
   "id": "62f829b5-edc0-4367-a31b-1e872404a6db",
   "metadata": {},
   "outputs": [],
   "source": []
  },
  {
   "cell_type": "code",
   "execution_count": null,
   "id": "0e9813c9-1e67-47da-89c5-fca43296b310",
   "metadata": {},
   "outputs": [],
   "source": []
  }
 ],
 "metadata": {
  "kernelspec": {
   "display_name": "Python [conda env:base] *",
   "language": "python",
   "name": "conda-base-py"
  },
  "language_info": {
   "codemirror_mode": {
    "name": "ipython",
    "version": 3
   },
   "file_extension": ".py",
   "mimetype": "text/x-python",
   "name": "python",
   "nbconvert_exporter": "python",
   "pygments_lexer": "ipython3",
   "version": "3.12.7"
  }
 },
 "nbformat": 4,
 "nbformat_minor": 5
}
