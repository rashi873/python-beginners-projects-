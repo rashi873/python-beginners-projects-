{
 "cells": [
  {
   "cell_type": "markdown",
   "id": "27227274-6468-43bf-9169-f0422d7056f5",
   "metadata": {},
   "source": [
    "### ACRONYMS MAKER USING PYTHON"
   ]
  },
  {
   "cell_type": "code",
   "execution_count": 52,
   "id": "7c84d0a5-6dbf-4cbc-a46a-ee93b155cc26",
   "metadata": {},
   "outputs": [
    {
     "name": "stdin",
     "output_type": "stream",
     "text": [
      "Enter a Phrase:  rashi bali\n"
     ]
    },
    {
     "name": "stdout",
     "output_type": "stream",
     "text": [
      "RB\n"
     ]
    }
   ],
   "source": [
    "user_input = input(\"Enter a Phrase: \")\n",
    "text = user_input.split()\n",
    "acronym = \"\"\n",
    "\n",
    "for i in text:\n",
    "    acronym += i[0].upper()\n",
    "    \n",
    "print(acronym)\n",
    "                 \n",
    "                 "
   ]
  },
  {
   "cell_type": "markdown",
   "id": "48d441e5-7b0a-4778-a738-d4710669b6a1",
   "metadata": {},
   "source": [
    "### Steps\n",
    "1. ask the user to input a phrase\n",
    "2. split the input into list of words\n",
    "3. iteration using i \n",
    "4. add the first letter of word in capitalise form using upper()\n",
    "5. print acronym\n"
   ]
  },
  {
   "cell_type": "code",
   "execution_count": null,
   "id": "8570833b-7ee0-423c-adab-d722e740f1ce",
   "metadata": {},
   "outputs": [],
   "source": []
  }
 ],
 "metadata": {
  "kernelspec": {
   "display_name": "Python [conda env:base] *",
   "language": "python",
   "name": "conda-base-py"
  },
  "language_info": {
   "codemirror_mode": {
    "name": "ipython",
    "version": 3
   },
   "file_extension": ".py",
   "mimetype": "text/x-python",
   "name": "python",
   "nbconvert_exporter": "python",
   "pygments_lexer": "ipython3",
   "version": "3.12.7"
  }
 },
 "nbformat": 4,
 "nbformat_minor": 5
}
