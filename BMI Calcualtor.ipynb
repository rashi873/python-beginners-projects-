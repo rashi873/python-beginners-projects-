{
 "cells": [
  {
   "cell_type": "markdown",
   "id": "d7d49ab1-5125-4d2b-b705-246a8352eeae",
   "metadata": {},
   "source": [
    "## BODY MASS INDEX CALCULATOR USING PYTHON"
   ]
  },
  {
   "cell_type": "code",
   "execution_count": 15,
   "id": "8dc0125e-4aa5-4e2f-a728-c9bbb92f1baf",
   "metadata": {},
   "outputs": [
    {
     "name": "stdin",
     "output_type": "stream",
     "text": [
      "Enter your height in centimeters: 167\n",
      "Enter your weight in kg: 48\n"
     ]
    },
    {
     "name": "stdout",
     "output_type": "stream",
     "text": [
      "your Body mass index is: 17.21108680841909\n",
      "you are underweight\n"
     ]
    }
   ],
   "source": [
    "Height=float(input(\"Enter your height in centimeters:\"))\n",
    "Weight=float(input(\"Enter your weight in kg:\"))\n",
    "Height=Height/100\n",
    "BMI=Weight/(Height*Height)\n",
    "print(\"your Body mass index is:\",BMI)\n",
    "if (BMI>0):\n",
    "    if (BMI<=16):\n",
    "        print(\"You are severely underweight\")\n",
    "    elif (BMI<=18.5):\n",
    "        print(\"you are underweight\")\n",
    "    elif (BMI<=25):\n",
    "        print(\"You are healthy\")\n",
    "    elif (BMI<=30):\n",
    "        print(\"You are overweight\")\n",
    "    else:\n",
    "        print(\"You are severely overweight\")\n",
    "else:(\"Please Enter valid details\")"
   ]
  },
  {
   "cell_type": "code",
   "execution_count": null,
   "id": "ad3aed4d-293f-4fa5-8751-063c6613a64c",
   "metadata": {},
   "outputs": [],
   "source": []
  }
 ],
 "metadata": {
  "kernelspec": {
   "display_name": "Python [conda env:base] *",
   "language": "python",
   "name": "conda-base-py"
  },
  "language_info": {
   "codemirror_mode": {
    "name": "ipython",
    "version": 3
   },
   "file_extension": ".py",
   "mimetype": "text/x-python",
   "name": "python",
   "nbconvert_exporter": "python",
   "pygments_lexer": "ipython3",
   "version": "3.12.7"
  }
 },
 "nbformat": 4,
 "nbformat_minor": 5
}
